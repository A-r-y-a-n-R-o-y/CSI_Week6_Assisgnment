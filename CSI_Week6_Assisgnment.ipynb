{
  "nbformat": 4,
  "nbformat_minor": 0,
  "metadata": {
    "colab": {
      "provenance": []
    },
    "kernelspec": {
      "name": "python3",
      "display_name": "Python 3"
    },
    "language_info": {
      "name": "python"
    }
  },
  "cells": [
    {
      "cell_type": "code",
      "execution_count": null,
      "metadata": {
        "id": "onBoAfpsK58v"
      },
      "outputs": [],
      "source": [
        "#Aryan Roy\n",
        "#CSI Week6 Assisgnment"
      ]
    },
    {
      "cell_type": "code",
      "source": [
        "import numpy as np\n",
        "import pandas as pd\n",
        "from sklearn.datasets import load_breast_cancer\n",
        "from sklearn.model_selection import train_test_split, GridSearchCV, RandomizedSearchCV\n",
        "from sklearn.metrics import accuracy_score, precision_score, recall_score, f1_score\n",
        "from sklearn.preprocessing import StandardScaler\n",
        "from sklearn.pipeline import Pipeline\n",
        "from sklearn.linear_model import LogisticRegression\n",
        "from sklearn.ensemble import RandomForestClassifier\n",
        "from sklearn.svm import SVC\n",
        "from sklearn.neighbors import KNeighborsClassifier\n",
        "\n",
        "data = load_breast_cancer()\n",
        "X = pd.DataFrame(data.data, columns=data.feature_names)\n",
        "y = pd.Series(data.target)\n",
        "\n",
        "X_train, X_test, y_train, y_test = train_test_split(X, y, test_size=0.2, random_state=42, stratify=y)\n",
        "\n",
        "def evaluate(model, X_test, y_test):\n",
        "    y_pred = model.predict(X_test)\n",
        "    return {\n",
        "        \"Accuracy\": accuracy_score(y_test, y_pred),\n",
        "        \"Precision\": precision_score(y_test, y_pred),\n",
        "        \"Recall\": recall_score(y_test, y_pred),\n",
        "        \"F1 Score\": f1_score(y_test, y_pred)\n",
        "    }\n",
        "\n",
        "base_models = {\n",
        "    \"Logistic Regression\": LogisticRegression(max_iter=10000),\n",
        "    \"Random Forest\": RandomForestClassifier(),\n",
        "    \"SVM\": SVC(),\n",
        "    \"KNN\": KNeighborsClassifier()\n",
        "}\n",
        "\n",
        "base_results = {}\n",
        "for name, model in base_models.items():\n",
        "    pipe = Pipeline([(\"scaler\", StandardScaler()), (\"clf\", model)])\n",
        "    pipe.fit(X_train, y_train)\n",
        "    base_results[name] = evaluate(pipe, X_test, y_test)\n",
        "\n",
        "pipe_lr = Pipeline([(\"scaler\", StandardScaler()), (\"clf\", LogisticRegression(max_iter=10000))])\n",
        "param_grid_lr = {\n",
        "    'clf__C': np.logspace(-3, 3, 7),\n",
        "    'clf__penalty': ['l2'],\n",
        "    'clf__solver': ['lbfgs']\n",
        "}\n",
        "grid_lr = GridSearchCV(pipe_lr, param_grid_lr, cv=5, scoring='f1', n_jobs=-1)\n",
        "grid_lr.fit(X_train, y_train)\n",
        "\n",
        "pipe_rf = Pipeline([(\"scaler\", StandardScaler()), (\"clf\", RandomForestClassifier(random_state=42))])\n",
        "param_grid_rf = {\n",
        "    'clf__n_estimators': [50, 100, 150],\n",
        "    'clf__max_depth': [None, 10, 20],\n",
        "    'clf__min_samples_split': [2, 5]\n",
        "}\n",
        "grid_rf = GridSearchCV(pipe_rf, param_grid_rf, cv=5, scoring='f1', n_jobs=-1)\n",
        "grid_rf.fit(X_train, y_train)\n",
        "\n",
        "pipe_knn = Pipeline([(\"scaler\", StandardScaler()), (\"clf\", KNeighborsClassifier())])\n",
        "param_grid_knn = {\n",
        "    'clf__n_neighbors': [3, 5, 7, 9],\n",
        "    'clf__weights': ['uniform', 'distance'],\n",
        "    'clf__p': [1, 2]\n",
        "}\n",
        "grid_knn = GridSearchCV(pipe_knn, param_grid_knn, cv=5, scoring='f1', n_jobs=-1)\n",
        "grid_knn.fit(X_train, y_train)\n",
        "\n",
        "pipe_svm = Pipeline([(\"scaler\", StandardScaler()), (\"clf\", SVC())])\n",
        "param_dist_svm = {\n",
        "    'clf__C': np.logspace(-3, 2, 20),\n",
        "    'clf__gamma': ['scale', 'auto'],\n",
        "    'clf__kernel': ['linear', 'rbf']\n",
        "}\n",
        "random_svm = RandomizedSearchCV(pipe_svm, param_dist_svm, cv=5, scoring='f1', n_iter=15, random_state=42, n_jobs=-1)\n",
        "random_svm.fit(X_train, y_train)\n",
        "\n",
        "best_random_params = random_svm.best_params_\n",
        "refined_grid_svm = {\n",
        "    'clf__C': [best_random_params['clf__C'] * 0.5, best_random_params['clf__C'], best_random_params['clf__C'] * 2],\n",
        "    'clf__gamma': [best_random_params['clf__gamma']],\n",
        "    'clf__kernel': [best_random_params['clf__kernel']]\n",
        "}\n",
        "grid_svm = GridSearchCV(pipe_svm, refined_grid_svm, cv=5, scoring='f1', n_jobs=-1)\n",
        "grid_svm.fit(X_train, y_train)\n",
        "\n",
        "tuned_models = {\n",
        "    \"Logistic Regression\": grid_lr.best_estimator_,\n",
        "    \"Random Forest\": grid_rf.best_estimator_,\n",
        "    \"SVM\": grid_svm.best_estimator_,\n",
        "    \"KNN\": grid_knn.best_estimator_\n",
        "}\n",
        "\n",
        "tuned_results = {}\n",
        "for name, model in tuned_models.items():\n",
        "    tuned_results[name] = evaluate(model, X_test, y_test)\n",
        "\n",
        "print(\"Before Hyperparameter Tuning:\")\n",
        "print(pd.DataFrame(base_results).T.round(4))\n",
        "\n",
        "print(\"\\nAfter Hyperparameter Tuning:\")\n",
        "print(pd.DataFrame(tuned_results).T.round(4))\n"
      ],
      "metadata": {
        "colab": {
          "base_uri": "https://localhost:8080/"
        },
        "id": "NBrKbT2yM2Dj",
        "outputId": "1889d56b-955a-4b05-86c6-098d01996e53"
      },
      "execution_count": 2,
      "outputs": [
        {
          "output_type": "stream",
          "name": "stdout",
          "text": [
            "Before Hyperparameter Tuning:\n",
            "                     Accuracy  Precision  Recall  F1 Score\n",
            "Logistic Regression    0.9825     0.9861  0.9861    0.9861\n",
            "Random Forest          0.9561     0.9589  0.9722    0.9655\n",
            "SVM                    0.9825     0.9861  0.9861    0.9861\n",
            "KNN                    0.9561     0.9589  0.9722    0.9655\n",
            "\n",
            "After Hyperparameter Tuning:\n",
            "                     Accuracy  Precision  Recall  F1 Score\n",
            "Logistic Regression    0.9737     0.9726  0.9861    0.9793\n",
            "Random Forest          0.9561     0.9589  0.9722    0.9655\n",
            "SVM                    0.9825     0.9861  0.9861    0.9861\n",
            "KNN                    0.9737     0.9600  1.0000    0.9796\n"
          ]
        }
      ]
    }
  ]
}